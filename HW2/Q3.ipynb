{
 "cells": [
  {
   "cell_type": "code",
   "execution_count": 31,
   "metadata": {
    "collapsed": true
   },
   "outputs": [],
   "source": [
    "import numpy as np"
   ]
  },
  {
   "cell_type": "code",
   "execution_count": 32,
   "outputs": [],
   "source": [
    "def p(x):\n",
    "    return -3.55*pow(x, 3) + 1.1*pow(x, 2) + 0.765*x -0.74\n",
    "def dp(x):\n",
    "    return -10.65*pow(x, 2) + 2.2*x + 0.765\n",
    "def ddp(x):\n",
    "    return -21.3*x + 2.2"
   ],
   "metadata": {
    "collapsed": false
   }
  },
  {
   "cell_type": "code",
   "execution_count": 33,
   "outputs": [],
   "source": [
    "def generic_hybrid(f, df, ddf, l, u, x0, eps, k):\n",
    "    count = 1\n",
    "    x = x0\n",
    "    fv = [f(u)]\n",
    "    while np.abs(u - l) >= eps and count <= k and np.abs(df(x)) > eps:\n",
    "        x_newt = x - df(x) / ddf(x)\n",
    "        if l < x_newt < u and np.abs(df(x_newt)) < 0.99 * np.abs(df(x)):\n",
    "            x = x_newt\n",
    "        else:\n",
    "            x = (u + l) / 2\n",
    "        if df(u)*df(x)>0:\n",
    "            u=x\n",
    "        else:\n",
    "            l=x\n",
    "        fv.append(f(x))\n",
    "        count += 1\n",
    "    return x,fv"
   ],
   "metadata": {
    "collapsed": false
   }
  },
  {
   "cell_type": "code",
   "execution_count": 39,
   "outputs": [
    {
     "data": {
      "text/plain": "-0.6081366095016632"
     },
     "execution_count": 39,
     "metadata": {},
     "output_type": "execute_result"
    }
   ],
   "source": [
    "eps = pow(10.0, -5)\n",
    "k = 50\n",
    "l = -1.0\n",
    "u = 0.0\n",
    "x0 = 0.5554\n",
    "\n",
    "x = generic_hybrid(p, p, dp, l, u, x0, eps, k)[0]\n",
    "x"
   ],
   "metadata": {
    "collapsed": false
   }
  }
 ],
 "metadata": {
  "kernelspec": {
   "display_name": "Python 3",
   "language": "python",
   "name": "python3"
  },
  "language_info": {
   "codemirror_mode": {
    "name": "ipython",
    "version": 2
   },
   "file_extension": ".py",
   "mimetype": "text/x-python",
   "name": "python",
   "nbconvert_exporter": "python",
   "pygments_lexer": "ipython2",
   "version": "2.7.6"
  }
 },
 "nbformat": 4,
 "nbformat_minor": 0
}
