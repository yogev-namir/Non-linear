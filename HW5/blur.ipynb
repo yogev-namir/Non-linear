{
 "cells": [
  {
   "cell_type": "code",
   "execution_count": null,
   "metadata": {},
   "outputs": [],
   "source": [
    "import numpy as np\n",
    "import scipy as scipy\n",
    "from scipy.linalg import toeplitz\n",
    "from scipy.sparse import csr_matrix, kron\n",
    "def blur(N, band=3, sigma=0.7):\n",
    "    z = np.block([np.exp(-(np.array([range(band)])**2)/(2*sigma**2)), np.zeros((1, N-band))])\n",
    "    A = toeplitz(z)\n",
    "    A = csr_matrix(A)\n",
    "    A = (1/(2*scipy.pi*sigma**2))*kron(A,A)\n",
    "    \n",
    "    x = np.zeros((N, N))\n",
    "    N2 = round(N/2)\n",
    "    N3 = round(N/3)\n",
    "    N6 = round(N/6)\n",
    "    N12 = round(N/12)\n",
    "    \n",
    "    # Large elipse\n",
    "    T = np.zeros((N6, N3))\n",
    "    for i in range(1, N6+1):\n",
    "        for j in range(1, N3+1):\n",
    "            if (i/N6)**2 + (j/N3)**2 < 1:\n",
    "                T[i-1,j-1] = 1\n",
    "    \n",
    "    T = np.block([np.fliplr(T), T])\n",
    "    T = np.block([[np.flipud(T)],[T]])\n",
    "    x[2:2+2*N6, N3-1:3*N3-1] =  T\n",
    "    \n",
    "    # Small elipse\n",
    "    T = np.zeros((N6, N3))\n",
    "    for i in range(1, N6+1):\n",
    "        for j in range(1, N3+1):\n",
    "            if (i/N6)**2 + (j/N3)**2 < 0.6:\n",
    "                T[i-1,j-1] = 1\n",
    "    \n",
    "    T = np.block([np.fliplr(T), T])\n",
    "    T = np.block([[np.flipud(T)],[T]])\n",
    "    x[N6:3*N6, N3-1:3*N3-1] =  x[N6:3*N6, N3-1:3*N3-1] + 2*T\n",
    "    x[x==3] = 2*np.ones((x[x==3]).shape)\n",
    "    \n",
    "    T = np.triu(np.ones((N3,N3)))\n",
    "    mT, nT = T.shape\n",
    "    x[N3+N12:N3+N12+nT,1:mT+1] = 3*T\n",
    "    \n",
    "    T = np.zeros((2*N6+1,2*N6+1))\n",
    "    mT, nT = T.shape\n",
    "    T[N6,:] = np.ones((1,nT))\n",
    "    T[:,N6] = np.ones((mT))\n",
    "    x[N2+N12:N2+N12+mT,N2:N2+nT] = 4*T\n",
    "    \n",
    "    x = x[:N,:N].reshape(N**2,1)\n",
    "    b = A @ x\n",
    "    \n",
    "    return A, b, x"
   ]
  }
 ],
 "metadata": {
  "kernelspec": {
   "display_name": "Python 3",
   "language": "python",
   "name": "python3"
  },
  "language_info": {
   "codemirror_mode": {
    "name": "ipython",
    "version": 3
   },
   "file_extension": ".py",
   "mimetype": "text/x-python",
   "name": "python",
   "nbconvert_exporter": "python",
   "pygments_lexer": "ipython3",
   "version": "3.7.6"
  }
 },
 "nbformat": 4,
 "nbformat_minor": 4
}
