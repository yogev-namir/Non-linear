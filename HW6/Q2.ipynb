{
 "cells": [
  {
   "cell_type": "code",
   "execution_count": 64,
   "metadata": {
    "collapsed": true,
    "pycharm": {
     "name": "#%%\n"
    }
   },
   "outputs": [],
   "source": [
    "import numpy as np\n",
    "from pytictoc import TicToc"
   ]
  },
  {
   "cell_type": "code",
   "execution_count": 65,
   "outputs": [],
   "source": [
    "def is_poitive_definite(A):\n",
    "    try:\n",
    "        np.linalg.cholesky(A)\n",
    "    except np.linalg.LinAlgError:\n",
    "        return False\n",
    "    return True"
   ],
   "metadata": {
    "collapsed": false,
    "pycharm": {
     "name": "#%%\n"
    }
   }
  },
  {
   "cell_type": "code",
   "execution_count": 84,
   "outputs": [],
   "source": [
    "def hybrid_newton(f, gf, hf, lsearch, x0, eps):\n",
    "    clock = TicToc()\n",
    "    clock.tic()\n",
    "    xk = x0\n",
    "    grad_xk = gf(x0)\n",
    "    fs = [f(x0)]\n",
    "    ts = [0]\n",
    "    gs = [grad_xk]\n",
    "    newton = []\n",
    "    while np.linalg.norm(grad_xk) >= eps:\n",
    "        print(f'{fs[-1]}')\n",
    "        if is_poitive_definite(hf(xk)):\n",
    "            dk = (np.linalg.solve(hf(xk), -grad_xk), 'newton')\n",
    "            newton.append(1)\n",
    "        else:\n",
    "            dk = (-grad_xk, 'grad')\n",
    "            newton.append(0)\n",
    "\n",
    "        tk = lsearch(xk, grad_xk, dk)\n",
    "        xk = xk + tk * dk[0]\n",
    "        grad_xk = gf(xk)\n",
    "        fs.append(f(xk))\n",
    "        gs.append(np.linalg.norm(grad_xk))\n",
    "        ts.append(clock.tocvalue())\n",
    "    return xk, fs, gs, ts, newton\n"
   ],
   "metadata": {
    "collapsed": false,
    "pycharm": {
     "name": "#%%\n"
    }
   }
  },
  {
   "cell_type": "code",
   "execution_count": 85,
   "outputs": [],
   "source": [
    "def calc_t(f, xk, gk, alpha, beta, s):\n",
    "    t = s\n",
    "    # print(b - (A.dot(xk - t * dk)))\n",
    "    while f(xk - t * gk) >= (f(xk) - (alpha * t * (np.linalg.norm(gk) ** 2))):\n",
    "        t = beta * t\n",
    "    return t"
   ],
   "metadata": {
    "collapsed": false,
    "pycharm": {
     "name": "#%%\n"
    }
   }
  },
  {
   "cell_type": "code",
   "execution_count": 86,
   "outputs": [],
   "source": [
    "def hybrid_back(f, alpha, beta, s):\n",
    "    return lambda xk, gk, direction: calc_t(f, xk, gk, alpha, beta, s) if direction[1] == 'grad' else 1\n",
    "\n",
    "\n",
    "def back(alpha, beta, s):\n",
    "    t = s\n",
    "    return lambda f, xk, gk: calc_t(f, xk, gk, alpha, beta, s)"
   ],
   "metadata": {
    "collapsed": false,
    "pycharm": {
     "name": "#%%\n"
    }
   }
  },
  {
   "cell_type": "code",
   "execution_count": 87,
   "outputs": [],
   "source": [
    "def generic_grad(f, gf, lsearch, x0, eps):\n",
    "    clock = TicToc()\n",
    "    clock.tic()\n",
    "    fs = [f(x0)]\n",
    "    gs = [np.linalg.norm(gf(x0))]\n",
    "    ts = [0]\n",
    "    xk = x0\n",
    "    gk = gf(xk)\n",
    "    while np.linalg.norm(gk) > eps:\n",
    "        gk = gf(xk)\n",
    "        tk = lsearch(f, xk, gk)\n",
    "        xk = xk - tk * gk\n",
    "        fs.append(f(xk))\n",
    "        gs.append(np.linalg.norm(gk))\n",
    "        ts.append(clock.tocvalue())\n",
    "    return xk, fs, gs, ts"
   ],
   "metadata": {
    "collapsed": false,
    "pycharm": {
     "name": "#%%\n"
    }
   }
  },
  {
   "cell_type": "code",
   "execution_count": 88,
   "outputs": [
    {
     "name": "stdout",
     "output_type": "stream",
     "text": [
      "1600000000\n",
      "36881691.55728361\n",
      "165018.56565401042\n",
      "230.18337829426923\n",
      "-95.60930138048744\n",
      "45519.27809445221\n",
      "8287.02817602295\n",
      "1273.6388068262368\n",
      "37.70336646691362\n",
      "-144.95489763444647\n",
      "-161.5737118687677\n",
      "-161.9994650254825\n",
      "-161.99999999901476\n"
     ]
    },
    {
     "name": "stderr",
     "output_type": "stream",
     "text": [
      "<ipython-input-88-7c593ef3d3d9>:1: RuntimeWarning: overflow encountered in scalar multiply\n",
      "  f = lambda x: x[0]**4 + x[1]**4 - 36*x[0]*x[1]\n"
     ]
    }
   ],
   "source": [
    "f = lambda x: x[0] ** 4 + x[1] ** 4 - 36 * x[0] * x[1]\n",
    "gf = lambda x: np.array([4 * (x[0] ** 3) - 36 * x[1], 4 * (x[1] ** 3) - 36 * x[0]])\n",
    "hf = lambda x: np.array([[12 * x[0] ** 2, -36], [-36, 12 * x[1] ** 2]])\n",
    "lsearch = hybrid_back(f, alpha=0.25, beta=0.5, s=1)\n",
    "lsearch_gen = back(alpha=0.25, beta=0.5, s=1)\n",
    "x0 = np.array([200, 0])\n",
    "eps = pow(10, -6)\n",
    "x, fs, gs, ts, newton = hybrid_newton(f, gf, hf, lsearch, x0, eps)\n",
    "x_gen, fs_gen, gs_gen, ts_gen = generic_grad(f, gf, lsearch_gen, x0, eps)"
   ],
   "metadata": {
    "collapsed": false,
    "pycharm": {
     "name": "#%%\n"
    }
   }
  },
  {
   "cell_type": "code",
   "execution_count": 128,
   "outputs": [
    {
     "data": {
      "text/plain": "<Figure size 720x432 with 1 Axes>",
      "image/png": "[encoded data removed]"
     },
     "metadata": {
      "needs_background": "light"
     },
     "output_type": "display_data"
    }
   ],
   "source": [
    "import matplotlib.pyplot as plt\n",
    "\n",
    "xs = np.arange(len(newton))\n",
    "xs_newt, xs_grad, fs_newt, fs_grad = [], [], [], []\n",
    "for i in range(len(newton)):\n",
    "    if newton[i] ==1:\n",
    "        xs_newt.append(xs[i]), fs_newt.append(fs[i])\n",
    "    else:\n",
    "        xs_grad.append(xs[i]), fs_grad.append(fs[i])\n",
    "\n",
    "plt.figure(figsize=(10,6))\n",
    "plt.semilogy(xs_newt, np.array(fs_newt) + 162, label='hybrid newton - newton', color='blue')\n",
    "plt.semilogy(xs_grad, np.array(fs_grad) + 162, label='hybrid newton - grad', color='yellow')\n",
    "plt.semilogy(np.arange(len(fs_gen)), np.array(fs_gen) + 162,color='red',label='pure gradent descent')\n",
    "plt.xticks(np.arange(len(fs_gen)))\n",
    "plt.legend()\n",
    "plt.show()"
   ],
   "metadata": {
    "collapsed": false,
    "pycharm": {
     "name": "#%%\n"
    }
   }
  }
 ],
 "metadata": {
  "kernelspec": {
   "display_name": "Python 3",
   "language": "python",
   "name": "python3"
  },
  "language_info": {
   "codemirror_mode": {
    "name": "ipython",
    "version": 2
   },
   "file_extension": ".py",
   "mimetype": "text/x-python",
   "name": "python",
   "nbconvert_exporter": "python",
   "pygments_lexer": "ipython2",
   "version": "2.7.6"
  }
 },
 "nbformat": 4,
 "nbformat_minor": 0
}