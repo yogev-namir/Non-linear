{
 "cells": [
  {
   "cell_type": "code",
   "execution_count": 2,
   "metadata": {
    "collapsed": true
   },
   "outputs": [],
   "source": [
    "import numpy as np\n",
    "from pytictoc import TicToc"
   ]
  },
  {
   "cell_type": "code",
   "execution_count": null,
   "outputs": [],
   "source": [
    "def is_poitive_definite(A):\n",
    "    try:\n",
    "        np.linalg.cholesky(A)\n",
    "    except np.linalg.LinAlgError:\n",
    "        return False\n",
    "    return True\n",
    "\n"
   ],
   "metadata": {
    "collapsed": false
   }
  },
  {
   "cell_type": "code",
   "execution_count": 4,
   "outputs": [],
   "source": [
    "def hybrid_newton(f,gf,hf,lsearch,x0,eps):\n",
    "    clock = TicToc()\n",
    "    clock.tic()\n",
    "    xk = x0\n",
    "    fs = [x0]\n",
    "    ts = [0]\n",
    "    gs = [gf(x0)]\n",
    "    newton = []\n",
    "    while np.linalg.norm(gf(xk)) >= eps:\n",
    "        if is_poitive_definite(hf(xk)):\n",
    "            dk = (np.linalg.solve(hf(xk), -gf(xk)),'newton')\n",
    "            newton.append(1)\n",
    "        else:\n",
    "            dk = (-gf(xk),'grad')\n",
    "            newton.append(0)\n",
    "        tk = lsearch(xk,gf(xk),dk)\n",
    "        xk = xk - tk*dk[0]\n",
    "        fs.append(f(xk))\n",
    "        gs.append(np.linalg.norm(gf(xk)))\n",
    "        ts.append(clock.tocvalue())\n",
    "    return x, fs,gs,ts,newton\n"
   ],
   "metadata": {
    "collapsed": false
   }
  },
  {
   "cell_type": "code",
   "execution_count": null,
   "outputs": [],
   "source": [
    "x,fs,gs,ts,newton = hybrid_newton(f,gf,hf,lsearch,x0,eps)"
   ],
   "metadata": {
    "collapsed": false
   }
  }
 ],
 "metadata": {
  "kernelspec": {
   "display_name": "Python 3",
   "language": "python",
   "name": "python3"
  },
  "language_info": {
   "codemirror_mode": {
    "name": "ipython",
    "version": 2
   },
   "file_extension": ".py",
   "mimetype": "text/x-python",
   "name": "python",
   "nbconvert_exporter": "python",
   "pygments_lexer": "ipython2",
   "version": "2.7.6"
  }
 },
 "nbformat": 4,
 "nbformat_minor": 0
}
