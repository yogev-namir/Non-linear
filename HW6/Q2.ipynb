{
 "cells": [
  {
   "cell_type": "code",
   "execution_count": 23,
   "outputs": [
    {
     "name": "stdout",
     "output_type": "stream",
     "text": [
      "Requirement already satisfied: pytictoc in c:\\users\\hadar\\anaconda3\\lib\\site-packages (1.5.2)\n"
     ]
    }
   ],
   "source": [
    "!pip install pytictoc --upgrade"
   ],
   "metadata": {
    "collapsed": false,
    "pycharm": {
     "name": "#%%\n"
    }
   }
  },
  {
   "cell_type": "code",
   "execution_count": 24,
   "metadata": {
    "collapsed": true,
    "pycharm": {
     "name": "#%%\n"
    }
   },
   "outputs": [],
   "source": [
    "import numpy as np\n",
    "from pytictoc import TicToc"
   ]
  },
  {
   "cell_type": "code",
   "execution_count": 25,
   "outputs": [],
   "source": [
    "def is_poitive_definite(A):\n",
    "    try:\n",
    "        np.linalg.cholesky(A)\n",
    "    except np.linalg.LinAlgError:\n",
    "        return False\n",
    "    return True\n",
    "\n"
   ],
   "metadata": {
    "collapsed": false,
    "pycharm": {
     "name": "#%%\n"
    }
   }
  },
  {
   "cell_type": "code",
   "execution_count": 26,
   "outputs": [],
   "source": [
    "def hybrid_newton(f,gf,hf,lsearch,x0,eps):\n",
    "    clock = TicToc()\n",
    "    clock.tic()\n",
    "    xk = x0\n",
    "    fs = [x0]\n",
    "    ts = [0]\n",
    "    gs = [gf(x0)]\n",
    "    newton = []\n",
    "    while np.linalg.norm(gf(xk)) >= eps:\n",
    "        if is_poitive_definite(hf(xk)):\n",
    "            dk = (np.linalg.solve(hf(xk), -gf(xk)),'newton')\n",
    "            newton.append(1)\n",
    "        else:\n",
    "            dk = (-gf(xk),'grad')\n",
    "            newton.append(0)\n",
    "        grad_xk= gf(xk)\n",
    "        tk = lsearch(xk,grad_xk,dk)\n",
    "        xk = xk - tk*dk[0]\n",
    "        fs.append(f(xk))\n",
    "        gs.append(np.linalg.norm(gf(xk)))\n",
    "        ts.append(clock.tocvalue())\n",
    "    return x, fs,gs,ts,newton\n"
   ],
   "metadata": {
    "collapsed": false,
    "pycharm": {
     "name": "#%%\n"
    }
   }
  },
  {
   "cell_type": "code",
   "execution_count": 27,
   "outputs": [],
   "source": [
    "def calc_t(f, xk, gk, dk, alpha, beta, s):\n",
    "    t = s\n",
    "    # print(b - (A.dot(xk - t * dk)))\n",
    "    while f(xk + t * dk) >= (f(xk) + (alpha * t * (gk(xk).T.dot(dk)))):\n",
    "        t = beta * t\n",
    "    return t"
   ],
   "metadata": {
    "collapsed": false,
    "pycharm": {
     "name": "#%%\n"
    }
   }
  },
  {
   "cell_type": "code",
   "execution_count": 28,
   "outputs": [],
   "source": [
    "def hybrid_back(f,alpha,beta,s):\n",
    "    return lambda xk,gk,direction: calc_t(f,xk,gk,direction[0],alpha,beta,s) if direction[1]=='grad' else 1\n"
   ],
   "metadata": {
    "collapsed": false,
    "pycharm": {
     "name": "#%%\n"
    }
   }
  },
  {
   "cell_type": "code",
   "execution_count": 35,
   "outputs": [
    {
     "name": "stderr",
     "output_type": "stream",
     "text": [
      "<ipython-input-35-9d11e3ce0557>:1: RuntimeWarning: overflow encountered in scalar multiply\n",
      "  f = lambda x: x[0]**4 + x[1]**4 - 36*x[0]*x[1]\n"
     ]
    },
    {
     "ename": "TypeError",
     "evalue": "'numpy.ndarray' object is not callable",
     "output_type": "error",
     "traceback": [
      "\u001B[1;31m---------------------------------------------------------------------------\u001B[0m",
      "\u001B[1;31mTypeError\u001B[0m                                 Traceback (most recent call last)",
      "\u001B[1;32m<ipython-input-35-9d11e3ce0557>\u001B[0m in \u001B[0;36m<module>\u001B[1;34m\u001B[0m\n\u001B[0;32m      5\u001B[0m \u001B[0mx0\u001B[0m \u001B[1;33m=\u001B[0m \u001B[0mnp\u001B[0m\u001B[1;33m.\u001B[0m\u001B[0marray\u001B[0m\u001B[1;33m(\u001B[0m\u001B[1;33m[\u001B[0m\u001B[1;36m200\u001B[0m\u001B[1;33m,\u001B[0m\u001B[1;36m0\u001B[0m\u001B[1;33m]\u001B[0m\u001B[1;33m)\u001B[0m\u001B[1;33m\u001B[0m\u001B[1;33m\u001B[0m\u001B[0m\n\u001B[0;32m      6\u001B[0m \u001B[0meps\u001B[0m \u001B[1;33m=\u001B[0m \u001B[0mpow\u001B[0m\u001B[1;33m(\u001B[0m\u001B[1;36m10\u001B[0m\u001B[1;33m,\u001B[0m\u001B[1;33m-\u001B[0m\u001B[1;36m6\u001B[0m\u001B[1;33m)\u001B[0m\u001B[1;33m\u001B[0m\u001B[1;33m\u001B[0m\u001B[0m\n\u001B[1;32m----> 7\u001B[1;33m \u001B[0mx\u001B[0m\u001B[1;33m,\u001B[0m\u001B[0mfs\u001B[0m\u001B[1;33m,\u001B[0m\u001B[0mgs\u001B[0m\u001B[1;33m,\u001B[0m\u001B[0mts\u001B[0m\u001B[1;33m,\u001B[0m\u001B[0mnewton\u001B[0m \u001B[1;33m=\u001B[0m \u001B[0mhybrid_newton\u001B[0m\u001B[1;33m(\u001B[0m\u001B[0mf\u001B[0m\u001B[1;33m,\u001B[0m\u001B[0mgf\u001B[0m\u001B[1;33m,\u001B[0m\u001B[0mhf\u001B[0m\u001B[1;33m,\u001B[0m\u001B[0mlsearch\u001B[0m\u001B[1;33m,\u001B[0m\u001B[0mx0\u001B[0m\u001B[1;33m,\u001B[0m\u001B[0meps\u001B[0m\u001B[1;33m)\u001B[0m\u001B[1;33m\u001B[0m\u001B[1;33m\u001B[0m\u001B[0m\n\u001B[0m",
      "\u001B[1;32m<ipython-input-26-2dd28102b5d4>\u001B[0m in \u001B[0;36mhybrid_newton\u001B[1;34m(f, gf, hf, lsearch, x0, eps)\u001B[0m\n\u001B[0;32m     14\u001B[0m             \u001B[0mdk\u001B[0m \u001B[1;33m=\u001B[0m \u001B[1;33m(\u001B[0m\u001B[1;33m-\u001B[0m\u001B[0mgf\u001B[0m\u001B[1;33m(\u001B[0m\u001B[0mxk\u001B[0m\u001B[1;33m)\u001B[0m\u001B[1;33m,\u001B[0m\u001B[1;34m'grad'\u001B[0m\u001B[1;33m)\u001B[0m\u001B[1;33m\u001B[0m\u001B[1;33m\u001B[0m\u001B[0m\n\u001B[0;32m     15\u001B[0m             \u001B[0mnewton\u001B[0m\u001B[1;33m.\u001B[0m\u001B[0mappend\u001B[0m\u001B[1;33m(\u001B[0m\u001B[1;36m0\u001B[0m\u001B[1;33m)\u001B[0m\u001B[1;33m\u001B[0m\u001B[1;33m\u001B[0m\u001B[0m\n\u001B[1;32m---> 16\u001B[1;33m         \u001B[0mtk\u001B[0m \u001B[1;33m=\u001B[0m \u001B[0mlsearch\u001B[0m\u001B[1;33m(\u001B[0m\u001B[0mxk\u001B[0m\u001B[1;33m,\u001B[0m\u001B[0mgf\u001B[0m\u001B[1;33m(\u001B[0m\u001B[0mxk\u001B[0m\u001B[1;33m)\u001B[0m\u001B[1;33m,\u001B[0m\u001B[0mdk\u001B[0m\u001B[1;33m)\u001B[0m\u001B[1;33m\u001B[0m\u001B[1;33m\u001B[0m\u001B[0m\n\u001B[0m\u001B[0;32m     17\u001B[0m         \u001B[0mxk\u001B[0m \u001B[1;33m=\u001B[0m \u001B[0mxk\u001B[0m \u001B[1;33m-\u001B[0m \u001B[0mtk\u001B[0m\u001B[1;33m*\u001B[0m\u001B[0mdk\u001B[0m\u001B[1;33m[\u001B[0m\u001B[1;36m0\u001B[0m\u001B[1;33m]\u001B[0m\u001B[1;33m\u001B[0m\u001B[1;33m\u001B[0m\u001B[0m\n\u001B[0;32m     18\u001B[0m         \u001B[0mfs\u001B[0m\u001B[1;33m.\u001B[0m\u001B[0mappend\u001B[0m\u001B[1;33m(\u001B[0m\u001B[0mf\u001B[0m\u001B[1;33m(\u001B[0m\u001B[0mxk\u001B[0m\u001B[1;33m)\u001B[0m\u001B[1;33m)\u001B[0m\u001B[1;33m\u001B[0m\u001B[1;33m\u001B[0m\u001B[0m\n",
      "\u001B[1;32m<ipython-input-28-7275531e39bd>\u001B[0m in \u001B[0;36m<lambda>\u001B[1;34m(xk, gk, direction)\u001B[0m\n\u001B[0;32m      1\u001B[0m \u001B[1;32mdef\u001B[0m \u001B[0mhybrid_back\u001B[0m\u001B[1;33m(\u001B[0m\u001B[0mf\u001B[0m\u001B[1;33m,\u001B[0m\u001B[0malpha\u001B[0m\u001B[1;33m,\u001B[0m\u001B[0mbeta\u001B[0m\u001B[1;33m,\u001B[0m\u001B[0ms\u001B[0m\u001B[1;33m)\u001B[0m\u001B[1;33m:\u001B[0m\u001B[1;33m\u001B[0m\u001B[1;33m\u001B[0m\u001B[0m\n\u001B[1;32m----> 2\u001B[1;33m     \u001B[1;32mreturn\u001B[0m \u001B[1;32mlambda\u001B[0m \u001B[0mxk\u001B[0m\u001B[1;33m,\u001B[0m\u001B[0mgk\u001B[0m\u001B[1;33m,\u001B[0m\u001B[0mdirection\u001B[0m\u001B[1;33m:\u001B[0m \u001B[0mcalc_t\u001B[0m\u001B[1;33m(\u001B[0m\u001B[0mf\u001B[0m\u001B[1;33m,\u001B[0m\u001B[0mxk\u001B[0m\u001B[1;33m,\u001B[0m\u001B[0mgk\u001B[0m\u001B[1;33m,\u001B[0m\u001B[0mdirection\u001B[0m\u001B[1;33m[\u001B[0m\u001B[1;36m0\u001B[0m\u001B[1;33m]\u001B[0m\u001B[1;33m,\u001B[0m\u001B[0malpha\u001B[0m\u001B[1;33m,\u001B[0m\u001B[0mbeta\u001B[0m\u001B[1;33m,\u001B[0m\u001B[0ms\u001B[0m\u001B[1;33m)\u001B[0m \u001B[1;32mif\u001B[0m \u001B[0mdirection\u001B[0m\u001B[1;33m[\u001B[0m\u001B[1;36m1\u001B[0m\u001B[1;33m]\u001B[0m\u001B[1;33m==\u001B[0m\u001B[1;34m'grad'\u001B[0m \u001B[1;32melse\u001B[0m \u001B[1;36m1\u001B[0m\u001B[1;33m\u001B[0m\u001B[1;33m\u001B[0m\u001B[0m\n\u001B[0m\u001B[0;32m      3\u001B[0m \u001B[1;33m\u001B[0m\u001B[0m\n",
      "\u001B[1;32m<ipython-input-27-9d77369c2129>\u001B[0m in \u001B[0;36mcalc_t\u001B[1;34m(f, xk, gk, dk, alpha, beta, s)\u001B[0m\n\u001B[0;32m      2\u001B[0m     \u001B[0mt\u001B[0m \u001B[1;33m=\u001B[0m \u001B[0ms\u001B[0m\u001B[1;33m\u001B[0m\u001B[1;33m\u001B[0m\u001B[0m\n\u001B[0;32m      3\u001B[0m     \u001B[1;31m# print(b - (A.dot(xk - t * dk)))\u001B[0m\u001B[1;33m\u001B[0m\u001B[1;33m\u001B[0m\u001B[1;33m\u001B[0m\u001B[0m\n\u001B[1;32m----> 4\u001B[1;33m     \u001B[1;32mwhile\u001B[0m \u001B[0mf\u001B[0m\u001B[1;33m(\u001B[0m\u001B[0mxk\u001B[0m \u001B[1;33m+\u001B[0m \u001B[0mt\u001B[0m \u001B[1;33m*\u001B[0m \u001B[0mdk\u001B[0m\u001B[1;33m)\u001B[0m \u001B[1;33m>=\u001B[0m \u001B[1;33m(\u001B[0m\u001B[0mf\u001B[0m\u001B[1;33m(\u001B[0m\u001B[0mxk\u001B[0m\u001B[1;33m)\u001B[0m \u001B[1;33m+\u001B[0m \u001B[1;33m(\u001B[0m\u001B[0malpha\u001B[0m \u001B[1;33m*\u001B[0m \u001B[0mt\u001B[0m \u001B[1;33m*\u001B[0m \u001B[1;33m(\u001B[0m\u001B[0mgk\u001B[0m\u001B[1;33m(\u001B[0m\u001B[0mxk\u001B[0m\u001B[1;33m)\u001B[0m\u001B[1;33m.\u001B[0m\u001B[0mT\u001B[0m\u001B[1;33m.\u001B[0m\u001B[0mdot\u001B[0m\u001B[1;33m(\u001B[0m\u001B[0mdk\u001B[0m\u001B[1;33m)\u001B[0m\u001B[1;33m)\u001B[0m\u001B[1;33m)\u001B[0m\u001B[1;33m)\u001B[0m\u001B[1;33m:\u001B[0m\u001B[1;33m\u001B[0m\u001B[1;33m\u001B[0m\u001B[0m\n\u001B[0m\u001B[0;32m      5\u001B[0m         \u001B[0mt\u001B[0m \u001B[1;33m=\u001B[0m \u001B[0mbeta\u001B[0m \u001B[1;33m*\u001B[0m \u001B[0mt\u001B[0m\u001B[1;33m\u001B[0m\u001B[1;33m\u001B[0m\u001B[0m\n\u001B[0;32m      6\u001B[0m     \u001B[1;32mreturn\u001B[0m \u001B[0mt\u001B[0m\u001B[1;33m\u001B[0m\u001B[1;33m\u001B[0m\u001B[0m\n",
      "\u001B[1;31mTypeError\u001B[0m: 'numpy.ndarray' object is not callable"
     ]
    },
    {
     "name": "stderr",
     "output_type": "stream",
     "text": [
      "Traceback (most recent call last):\n",
      "  File \"_pydevd_bundle\\pydevd_cython_win32_38_64.pyx\", line 1034, in _pydevd_bundle.pydevd_cython_win32_38_64.PyDBFrame.trace_dispatch\n",
      "  File \"C:\\Program Files\\JetBrains\\PyCharm 2022.1\\plugins\\python\\helpers-pro\\jupyter_debug\\pydev_jupyter_plugin.py\", line 144, in cmd_step_over\n",
      "    if _is_inside_jupyter_cell(frame, pydb):\n",
      "  File \"C:\\Program Files\\JetBrains\\PyCharm 2022.1\\plugins\\python\\helpers-pro\\jupyter_debug\\pydev_jupyter_plugin.py\", line 209, in _is_inside_jupyter_cell\n",
      "    if is_cell_filename(filename):\n",
      "  File \"C:\\Program Files\\JetBrains\\PyCharm 2022.1\\plugins\\python\\helpers-pro\\jupyter_debug\\pydev_jupyter_plugin.py\", line 220, in is_cell_filename\n",
      "    ipython_shell = get_ipython()\n",
      "NameError: name 'get_ipython' is not defined\n"
     ]
    }
   ],
   "source": [
    "f = lambda x: x[0]**4 + x[1]**4 - 36*x[0]*x[1]\n",
    "gf = lambda x: np.array([4*(x[0]**3) - 36*x[1],4*(x[1]**3) - 36*x[0]])\n",
    "hf = lambda x: np.array([[12*x[0]**2 -36, -36],[-36,12*x[1]**2 -36]])\n",
    "lsearch = hybrid_back(f,alpha=0.25,beta=0.5,s=1)\n",
    "x0 = np.array([200,0])\n",
    "eps = pow(10,-6)\n",
    "x,fs,gs,ts,newton = hybrid_newton(f,gf,hf,lsearch,x0,eps)"
   ],
   "metadata": {
    "collapsed": false,
    "pycharm": {
     "name": "#%%\n"
    }
   }
  },
  {
   "cell_type": "markdown",
   "source": [],
   "metadata": {
    "collapsed": false,
    "pycharm": {
     "name": "#%% md\n"
    }
   }
  },
  {
   "cell_type": "markdown",
   "source": [],
   "metadata": {
    "collapsed": false,
    "pycharm": {
     "name": "#%% md\n"
    }
   }
  }
 ],
 "metadata": {
  "kernelspec": {
   "display_name": "Python 3",
   "language": "python",
   "name": "python3"
  },
  "language_info": {
   "codemirror_mode": {
    "name": "ipython",
    "version": 2
   },
   "file_extension": ".py",
   "mimetype": "text/x-python",
   "name": "python",
   "nbconvert_exporter": "python",
   "pygments_lexer": "ipython2",
   "version": "2.7.6"
  }
 },
 "nbformat": 4,
 "nbformat_minor": 0
}